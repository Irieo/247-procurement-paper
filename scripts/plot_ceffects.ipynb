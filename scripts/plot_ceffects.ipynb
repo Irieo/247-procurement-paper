{
 "cells": [
  {
   "cell_type": "code",
   "execution_count": null,
   "metadata": {},
   "outputs": [],
   "source": [
    "import os\n",
    "import pandas as pd\n",
    "import matplotlib.pyplot as plt\n",
    "from matplotlib.ticker import FormatStrFormatter\n",
    "import numpy as np\n",
    "import matplotlib\n",
    "\n",
    "# matplotlib.use('Agg')"
   ]
  },
  {
   "attachments": {},
   "cell_type": "markdown",
   "metadata": {},
   "source": [
    "### Aggregate data across wildcards/folders"
   ]
  },
  {
   "cell_type": "code",
   "execution_count": null,
   "metadata": {},
   "outputs": [],
   "source": [
    "# Data to aggregate: <path>/{participation}/{year}/{zone}/{palette}/summary.csv\n",
    "# Fix {participation} and {palette}\n",
    "desired_size = \"10\"\n",
    "desired_palette = \"p1\""
   ]
  },
  {
   "cell_type": "code",
   "execution_count": null,
   "metadata": {},
   "outputs": [],
   "source": [
    "def carbon_drop(scenario):\n",
    "    base_path = f\"../results/paper{scenario}/csvs\"\n",
    "    aggregated_df = pd.DataFrame()\n",
    "    ci_demand_total_df = pd.DataFrame()  # hold 'ci_demand_total' data\n",
    "\n",
    "    # Loop through the directory structure\n",
    "    for root, dirs, files in os.walk(base_path):\n",
    "        components = root.split(os.sep)\n",
    "        # print(components)  # for debugging\n",
    "\n",
    "        # Pickup desired participation and palette\n",
    "        if (\n",
    "            len(components) == 8\n",
    "            and components[4] == desired_size\n",
    "            and components[7] == desired_palette\n",
    "        ):\n",
    "            year, zone = components[5], components[6]\n",
    "\n",
    "            if \"summary.csv\" in files:\n",
    "                file_path = os.path.join(root, \"summary.csv\")\n",
    "                df = pd.read_csv(file_path, index_col=0)\n",
    "\n",
    "                # store demand data for normalization\n",
    "                ci_demand_total_data = df.loc[\n",
    "                    \"ci_demand_total\"\n",
    "                ]  # Get the 'ci_demand_total' row\n",
    "                ci_demand_total_data.name = (zone, year)\n",
    "\n",
    "                if ci_demand_total_df.empty:\n",
    "                    ci_demand_total_df = pd.DataFrame(\n",
    "                        columns=ci_demand_total_data.index, dtype=float\n",
    "                    )\n",
    "\n",
    "                ci_demand_total_df = pd.concat(\n",
    "                    [ci_demand_total_df, ci_demand_total_data.to_frame().T],\n",
    "                    ignore_index=False,\n",
    "                )\n",
    "\n",
    "                # store zone emissions data\n",
    "                emissions_zone_data = df.loc[\"emissions_zone\"]\n",
    "                emissions_zone_data.name = (zone, year)\n",
    "\n",
    "                if aggregated_df.empty:\n",
    "                    aggregated_df = pd.DataFrame(\n",
    "                        columns=emissions_zone_data.index, dtype=float\n",
    "                    )\n",
    "\n",
    "                aggregated_df = pd.concat(\n",
    "                    [aggregated_df, emissions_zone_data.to_frame().T],\n",
    "                    ignore_index=False,\n",
    "                )\n",
    "\n",
    "    # Pick necessary scenarios and rename\n",
    "    aggregated_df.index.names = [\"system\"]\n",
    "    selected = [\n",
    "        col for col in [\"ref\", \"cfe100\", \"res100\"] if col in aggregated_df.columns\n",
    "    ]\n",
    "    aggregated_df = aggregated_df[selected]\n",
    "    aggregated_df[f\"diff{scenario}\"] = aggregated_df[\"ref\"] - aggregated_df[\"cfe100\"]\n",
    "    aggregated_df.rename(columns={\"cfe100\": f\"cfe100{scenario}\"}, inplace=True)\n",
    "\n",
    "    # Add CI demand into aggregated_df | 'ref' scen is arbitrary since they are same\n",
    "    aggregated_df[\"ci_demand\"] = ci_demand_total_df[\"ref\"]\n",
    "\n",
    "    return aggregated_df"
   ]
  },
  {
   "attachments": {},
   "cell_type": "markdown",
   "metadata": {},
   "source": [
    "## Isolating profile and volume effects on carbon emissions in local zone"
   ]
  },
  {
   "cell_type": "markdown",
   "metadata": {},
   "source": [
    "### Gather data"
   ]
  },
  {
   "cell_type": "code",
   "execution_count": null,
   "metadata": {},
   "outputs": [],
   "source": [
    "carbon_drop(scenario=\"\")"
   ]
  },
  {
   "cell_type": "code",
   "execution_count": null,
   "metadata": {},
   "outputs": [],
   "source": [
    "carbon_drop(scenario=\"-noexcess\")"
   ]
  },
  {
   "cell_type": "code",
   "execution_count": null,
   "metadata": {},
   "outputs": [],
   "source": [
    "df1 = carbon_drop(scenario=\"\")\n",
    "df2 = carbon_drop(scenario=\"-noexcess\")\n",
    "data = df1.copy()\n",
    "\n",
    "for col in df2.columns:\n",
    "    if col not in df1.columns:\n",
    "        data[col] = df2[col]"
   ]
  },
  {
   "cell_type": "code",
   "execution_count": null,
   "metadata": {},
   "outputs": [],
   "source": [
    "data"
   ]
  },
  {
   "cell_type": "code",
   "execution_count": null,
   "metadata": {},
   "outputs": [],
   "source": [
    "rename_scen = {\n",
    "    \"ref\": \"no procurement\",\n",
    "    \"res100\": \"100% annual matching\",\n",
    "    \"cfe100\": \"100% 24/7 CFE\",\n",
    "    \"diff\": \"Emissions reduction total\",\n",
    "    \"cfe100-noexcess\": \"100% 24/7 CFE w/o excess\",\n",
    "    \"diff-noexcess\": \"Profile effect\",\n",
    "    \"ci_demand\": \"ci demand\",\n",
    "}\n",
    "\n",
    "data.rename(columns=rename_scen, inplace=True)"
   ]
  },
  {
   "cell_type": "code",
   "execution_count": null,
   "metadata": {},
   "outputs": [],
   "source": [
    "data"
   ]
  },
  {
   "cell_type": "markdown",
   "metadata": {},
   "source": [
    "### Compute volume effect (i.e. overall impact minus profile part)"
   ]
  },
  {
   "cell_type": "code",
   "execution_count": null,
   "metadata": {},
   "outputs": [],
   "source": [
    "data[\"Volume effect\"] = data[\"Emissions reduction total\"] - data[\"Profile effect\"]"
   ]
  },
  {
   "cell_type": "code",
   "execution_count": null,
   "metadata": {},
   "outputs": [],
   "source": [
    "data"
   ]
  },
  {
   "cell_type": "markdown",
   "metadata": {},
   "source": [
    "### Compute absolute & relative fractions of profile vs volume"
   ]
  },
  {
   "cell_type": "code",
   "execution_count": null,
   "metadata": {},
   "outputs": [],
   "source": [
    "fractions = pd.DataFrame()\n",
    "fractions[\"Profile effect share\"] = (\n",
    "    data[\"Profile effect\"] / data[\"Emissions reduction total\"]\n",
    ") * 100\n",
    "fractions[\"Volume effect share\"] = (\n",
    "    data[\"Volume effect\"] / data[\"Emissions reduction total\"]\n",
    ") * 100\n",
    "fractions"
   ]
  },
  {
   "cell_type": "code",
   "execution_count": null,
   "metadata": {},
   "outputs": [],
   "source": [
    "abs = pd.DataFrame()\n",
    "abs[\"Profile effect\"] = data[\"Profile effect\"]\n",
    "abs[\"Volume effect\"] = data[\"Volume effect\"]\n",
    "abs[\"Demand\"] = data[\"ci demand\"]\n",
    "abs.round(2)"
   ]
  },
  {
   "cell_type": "markdown",
   "metadata": {},
   "source": [
    "### Isolating profile and volume effects | Plot 1"
   ]
  },
  {
   "cell_type": "code",
   "execution_count": null,
   "metadata": {},
   "outputs": [],
   "source": [
    "def plot_absolute(data):\n",
    "    \"\"\"\n",
    "    Plot absolute values of Profile and Volume effects\n",
    "    \"\"\"\n",
    "    fig, ax = plt.subplots()\n",
    "    fig.set_size_inches((6, 4.5))\n",
    "\n",
    "    data = data.sort_index()\n",
    "    data.index = [f\"{x[0]} {x[1]}\" for x in data.index]\n",
    "\n",
    "    data[[\"Profile effect\", \"Volume effect\"]].plot(\n",
    "        kind=\"bar\",\n",
    "        stacked=True,\n",
    "        ax=ax,\n",
    "        color=plt.cm.Paired(np.linspace(0, 1, 2)),\n",
    "        width=0.65,\n",
    "        edgecolor=\"black\",\n",
    "        linewidth=0.05,\n",
    "    )\n",
    "\n",
    "    plt.xticks(rotation=90)\n",
    "\n",
    "    ax.grid(alpha=0.3)\n",
    "    ax.set_axisbelow(True)\n",
    "    ax.set_ylabel(\"Emissions reduction in local zone [MtCO$_2$/a]\")\n",
    "    plt.xlabel(\"\")\n",
    "    plt.axvline(x=1.5, color=\"gray\", linestyle=\"--\")\n",
    "    plt.axvline(x=3.5, color=\"gray\", linestyle=\"--\")\n",
    "    plt.axvline(x=5.5, color=\"gray\", linestyle=\"--\")\n",
    "\n",
    "    fig.tight_layout()\n",
    "    fig.savefig(\"../results/paper/absolute_effects.pdf\", transparent=True)\n",
    "    plt.show()"
   ]
  },
  {
   "cell_type": "code",
   "execution_count": null,
   "metadata": {},
   "outputs": [],
   "source": [
    "norm_df = data.copy()\n",
    "norm_df[\"Profile effect\"] /= data[\"ci demand\"]\n",
    "norm_df[\"Volume effect\"] /= data[\"ci demand\"]\n",
    "\n",
    "norm_df *= 1e9  # MtCO2/a -> kgCO2/a per MWh of C&I demand\n",
    "norm_df.index = [f\"{x[0]} {x[1]}\" for x in norm_df.index]\n",
    "norm_df[[\"Profile effect\", \"Volume effect\"]].sum(axis=1).round(1)"
   ]
  },
  {
   "cell_type": "code",
   "execution_count": null,
   "metadata": {},
   "outputs": [],
   "source": [
    "def plot_normalized(data):\n",
    "    \"\"\"\n",
    "    Plot normalized values of Profile and Volume effects per MWh of C&I demand\n",
    "    \"\"\"\n",
    "    norm_df = data.copy()\n",
    "    norm_df[\"Profile effect\"] /= data[\"ci demand\"]\n",
    "    norm_df[\"Volume effect\"] /= data[\"ci demand\"]\n",
    "\n",
    "    norm_df *= 1e9  # MtCO2/a -> kgCO2/a per MWh of C&I demand\n",
    "    norm_df.index = [f\"{x[0]} {x[1]}\" for x in norm_df.index]\n",
    "\n",
    "    fig, ax = plt.subplots()\n",
    "    fig.set_size_inches((6, 4.5))\n",
    "\n",
    "    norm_df[[\"Profile effect\", \"Volume effect\"]].sort_index().plot(\n",
    "        kind=\"bar\",\n",
    "        stacked=True,\n",
    "        ax=ax,\n",
    "        color=plt.cm.Paired(np.linspace(0, 1, 2)),\n",
    "        width=0.65,\n",
    "        edgecolor=\"black\",\n",
    "        linewidth=0.05,\n",
    "    )\n",
    "\n",
    "    plt.xticks(rotation=90)\n",
    "\n",
    "    ax.grid(alpha=0.3)\n",
    "    ax.set_axisbelow(True)\n",
    "    ax.set_ylabel(r\"Emissions reduction in local zone [kgCO$_2$a$^{-1}$·MWh$^{-1}$]\")\n",
    "    plt.xlabel(\"\")\n",
    "    plt.axvline(x=1.5, color=\"gray\", linestyle=\"--\")\n",
    "    plt.axvline(x=3.5, color=\"gray\", linestyle=\"--\")\n",
    "    plt.axvline(x=5.5, color=\"gray\", linestyle=\"--\")\n",
    "\n",
    "    fig.tight_layout()\n",
    "    fig.savefig(\"../results/paper/normalized_effects.pdf\", transparent=True)\n",
    "    plt.show()"
   ]
  },
  {
   "cell_type": "code",
   "execution_count": null,
   "metadata": {},
   "outputs": [],
   "source": [
    "def plot_percentage_fractions(data):\n",
    "    \"\"\"\n",
    "    Plot percentage fractions of Profile and Volume effects\n",
    "    \"\"\"\n",
    "    fractions = pd.DataFrame(index=data.index)\n",
    "    fractions[\"Profile effect share\"] = (\n",
    "        data[\"Profile effect\"] / data[\"Emissions reduction total\"]\n",
    "    ) * 100\n",
    "    fractions[\"Volume effect share\"] = (\n",
    "        data[\"Volume effect\"] / data[\"Emissions reduction total\"]\n",
    "    ) * 100\n",
    "\n",
    "    fig, ax = plt.subplots()\n",
    "    fig.set_size_inches((6, 4.5))\n",
    "\n",
    "    fractions.index = [f\"{x[0]} {x[1]}\" for x in fractions.index]\n",
    "    fractions.sort_index().plot(\n",
    "        kind=\"bar\",\n",
    "        stacked=True,\n",
    "        ax=ax,\n",
    "        color=plt.cm.Paired(np.linspace(0, 1, 2)),\n",
    "        width=0.65,\n",
    "        edgecolor=\"black\",\n",
    "        linewidth=0.05,\n",
    "    )\n",
    "\n",
    "    plt.xticks(rotation=90)\n",
    "\n",
    "    ax.grid(alpha=0.3)\n",
    "    ax.set_axisbelow(True)\n",
    "    ax.set_ylabel(\n",
    "        \"Emissions reduction in local zone\\npercentage share of causing effect\"\n",
    "    )\n",
    "    ax.legend(loc=\"lower right\")\n",
    "    plt.xlabel(\"\")\n",
    "    plt.axvline(x=1.5, color=\"gray\", linestyle=\"--\")\n",
    "    plt.axvline(x=3.5, color=\"gray\", linestyle=\"--\")\n",
    "    plt.axvline(x=5.5, color=\"gray\", linestyle=\"--\")\n",
    "\n",
    "    fig.tight_layout()\n",
    "    fig.savefig(\"../results/paper/percentage_fractions.pdf\", transparent=True)\n",
    "    plt.show()"
   ]
  },
  {
   "cell_type": "code",
   "execution_count": null,
   "metadata": {},
   "outputs": [],
   "source": [
    "plot_absolute(data)"
   ]
  },
  {
   "cell_type": "code",
   "execution_count": null,
   "metadata": {},
   "outputs": [],
   "source": [
    "plot_normalized(data)"
   ]
  },
  {
   "cell_type": "code",
   "execution_count": null,
   "metadata": {},
   "outputs": [],
   "source": [
    "plot_percentage_fractions(data)"
   ]
  },
  {
   "cell_type": "code",
   "execution_count": null,
   "metadata": {},
   "outputs": [],
   "source": [
    "import matplotlib.colors as mcolors\n",
    "\n",
    "# Get the color values\n",
    "color_values = plt.cm.Paired(np.linspace(0, 1, 2))\n",
    "\n",
    "# Convert to hexadecimal RGB string\n",
    "color_hex = [mcolors.to_hex(color) for color in color_values]\n",
    "\n",
    "print(color_hex)  # Output: ['#a6cee3', '#b15928']"
   ]
  },
  {
   "attachments": {},
   "cell_type": "markdown",
   "metadata": {},
   "source": [
    "### Comparing emission reductions achieved by RES100% and 24/7 CFE 100% | Plot 2"
   ]
  },
  {
   "cell_type": "code",
   "execution_count": null,
   "metadata": {},
   "outputs": [],
   "source": [
    "data.round(1)"
   ]
  },
  {
   "cell_type": "code",
   "execution_count": null,
   "metadata": {},
   "outputs": [],
   "source": [
    "data.columns"
   ]
  },
  {
   "cell_type": "code",
   "execution_count": null,
   "metadata": {},
   "outputs": [],
   "source": [
    "# Calculate percentage reductions\n",
    "data_copy[\"Annual Matching Reduction (%)\"] = (\n",
    "    1 - data_copy[\"100% annual matching\"] / data_copy[\"no procurement\"]\n",
    ") * 100\n",
    "data_copy[\"Profile Effect Reduction (%)\"] = (\n",
    "    data_copy[\"Profile effect\"] / data_copy[\"no procurement\"]\n",
    ") * 100\n",
    "data_copy[\"Volume Effect Reduction (%)\"] = (\n",
    "    data_copy[\"Volume effect\"] / data_copy[\"no procurement\"]\n",
    ") * 100\n",
    "data_copy"
   ]
  },
  {
   "cell_type": "code",
   "execution_count": null,
   "metadata": {},
   "outputs": [],
   "source": [
    "# def plot_2():\n",
    "\n",
    "#     fig, ax = plt.subplots()\n",
    "#     fig.set_size_inches((6,4.5))\n",
    "\n",
    "#     df = pd.DataFrame()\n",
    "#     # Compute decrease of local zone emissions achived 24/7 CFE *above* RES100% in % terms of no procurement case\n",
    "#     df['Emissions_drop'] = (data['100% 24/7 CFE'] - data['100% annual matching'])/data['no procurement']*100\n",
    "#     ldf = df.sort_index()\n",
    "#     ldf.index = [f\"{x[0]} {x[1]}\" for x in df.index]\n",
    "#     ldf.plot(kind=\"bar\", ax=ax,\n",
    "#         color='#33415c', width=0.65, edgecolor = \"black\", linewidth=0.05)\n",
    "\n",
    "#     plt.xticks(rotation=90)\n",
    "\n",
    "#     ax.grid(alpha=0.3)\n",
    "#     ax.set_axisbelow(True)\n",
    "#     ax.set_ylabel(\"Percentage of local zone emissions [%]\")\n",
    "#     ax.get_legend().remove()\n",
    "#     plt.xlabel('')\n",
    "#     plt.axvline(x = 1.5, color = 'gray', linestyle=\"--\")\n",
    "#     plt.axvline(x = 3.5, color = 'gray', linestyle=\"--\")\n",
    "#     plt.axvline(x = 5.5, color = 'gray', linestyle=\"--\")\n",
    "\n",
    "#     fig.tight_layout()\n",
    "#     fig.savefig(\"../results/paper/hourly-annual.pdf\", transparent=True)\n",
    "\n",
    "# plot_2()"
   ]
  },
  {
   "cell_type": "code",
   "execution_count": null,
   "metadata": {},
   "outputs": [],
   "source": [
    "def plot_percentage_reduction(data):\n",
    "    \"\"\"\n",
    "    Plots the reduction in annual annual zone emissions in % (counterfactual is no voluntary procurement)\n",
    "    for annual and hourly matching (hourly is split per causing effect).\n",
    "    \"\"\"\n",
    "\n",
    "    data_copy = data.copy()\n",
    "\n",
    "    # Calculate percentage reductions\n",
    "    data_copy[\"Annual Matching Reduction (%)\"] = (\n",
    "        1 - data_copy[\"100% annual matching\"] / data_copy[\"no procurement\"]\n",
    "    ) * 100\n",
    "    data_copy[\"Profile Effect Reduction (%)\"] = (\n",
    "        data_copy[\"Profile effect\"] / data_copy[\"no procurement\"]\n",
    "    ) * 100\n",
    "    data_copy[\"Volume Effect Reduction (%)\"] = (\n",
    "        data_copy[\"Volume effect\"] / data_copy[\"no procurement\"]\n",
    "    ) * 100\n",
    "\n",
    "    # Set the index for better labeling\n",
    "    data_copy.index = [f\"{x[0]} {x[1]}\" for x in data_copy.index]\n",
    "    data_copy = data_copy.sort_index()\n",
    "\n",
    "    # Setup the plot\n",
    "    n_zones = len(data_copy)\n",
    "    bar_width = 0.35  # Adjusted the bar width to make bars a bit thicker\n",
    "    index = np.arange(n_zones)  # The label locations\n",
    "    fig, ax = plt.subplots(figsize=(6, 4.5))\n",
    "\n",
    "    # Create bars\n",
    "    bar1 = ax.bar(\n",
    "        index - bar_width / 2,\n",
    "        data_copy[\"Annual Matching Reduction (%)\"],\n",
    "        bar_width,\n",
    "        label=\"100% Annual Matching\",\n",
    "        edgecolor=\"black\",\n",
    "        linewidth=0.05,\n",
    "        color=\"#003f5c\",\n",
    "    )\n",
    "    bar2 = ax.bar(\n",
    "        index + bar_width / 2,\n",
    "        data_copy[\"Profile Effect Reduction (%)\"],\n",
    "        bar_width,\n",
    "        label=\"Profile Effect (100% 24/7 CFE)\",\n",
    "        edgecolor=\"black\",\n",
    "        linewidth=0.05,\n",
    "        color=\"#a6cee3\",\n",
    "    )\n",
    "    bar3 = ax.bar(\n",
    "        index + bar_width / 2,\n",
    "        data_copy[\"Volume Effect Reduction (%)\"],\n",
    "        bar_width,\n",
    "        label=\"Volume Effect (100% 24/7 CFE)\",\n",
    "        bottom=data_copy[\"Profile Effect Reduction (%)\"],\n",
    "        edgecolor=\"black\",\n",
    "        linewidth=0.05,\n",
    "        color=\"#b15928\",\n",
    "    )\n",
    "\n",
    "    # Decorations\n",
    "    ax.set_ylabel(r\"Reduction in annual zone emissions [pp p.a.]\", fontsize=10)\n",
    "    ax.set_xticks(index)\n",
    "    ax.set_xticklabels(data_copy.index, fontsize=10)\n",
    "    ax.legend(fontsize=8)\n",
    "    ax.set_axisbelow(True)\n",
    "\n",
    "    plt.xticks(rotation=90)\n",
    "    plt.grid(True, linestyle=\"--\", alpha=0.6)\n",
    "\n",
    "    # Add vertical separating lines\n",
    "    plt.axvline(x=1.5, color=\"gray\", linestyle=\"--\")\n",
    "    plt.axvline(x=3.5, color=\"gray\", linestyle=\"--\")\n",
    "    plt.axvline(x=5.5, color=\"gray\", linestyle=\"--\")\n",
    "\n",
    "    plt.tight_layout()\n",
    "    fig.savefig(\"../results/paper/emissions_reduction_comparison.pdf\", transparent=True)\n",
    "    plt.show()\n",
    "\n",
    "\n",
    "plot_percentage_reduction(data)"
   ]
  },
  {
   "cell_type": "code",
   "execution_count": null,
   "metadata": {},
   "outputs": [],
   "source": []
  }
 ],
 "metadata": {
  "kernelspec": {
   "display_name": "",
   "language": "python",
   "name": ""
  },
  "language_info": {
   "codemirror_mode": {
    "name": "ipython",
    "version": 3
   },
   "file_extension": ".py",
   "mimetype": "text/x-python",
   "name": "python",
   "nbconvert_exporter": "python",
   "pygments_lexer": "ipython3",
   "version": "3.11.0"
  },
  "orig_nbformat": 4
 },
 "nbformat": 4,
 "nbformat_minor": 2
}
