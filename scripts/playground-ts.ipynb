{
 "cells": [
  {
   "cell_type": "code",
   "execution_count": 83,
   "id": "f89ca7fc",
   "metadata": {},
   "outputs": [],
   "source": [
    "import pandas as pd\n",
    "import matplotlib.colors as mc # For the legend\n",
    "import matplotlib.pyplot as plt\n",
    "import matplotlib.dates as mdates\n",
    "import numpy as np\n",
    "import yaml\n",
    "\n",
    "from matplotlib.cm import ScalarMappable\n",
    "from pypsa.descriptors import Dict\n"
   ]
  },
  {
   "cell_type": "code",
   "execution_count": 84,
   "id": "2c86f9b8",
   "metadata": {},
   "outputs": [],
   "source": [
    "snakemake = Dict()\n",
    "\n",
    "with open(f\"../config.yaml\",'r') as f:\n",
    "    snakemake.config = yaml.safe_load(f)\n",
    "    \n",
    "snakemake.input = Dict()\n",
    "snakemake.output = Dict()"
   ]
  },
  {
   "cell_type": "markdown",
   "id": "bd4fe564",
   "metadata": {},
   "source": [
    "### Prepare data"
   ]
  },
  {
   "cell_type": "code",
   "execution_count": 85,
   "id": "9647a767",
   "metadata": {},
   "outputs": [],
   "source": [
    "if True:\n",
    "    folder=\"../results/report\"\n",
    "    scenario=\"10/2025/DE/p1\"\n",
    "\n",
    "    snakemake.input.data = f\"{folder}/networks/{scenario}/ref.csv\"\n",
    "    snakemake.output.plot = f\"{folder}/plots/plot.pdf\"\n",
    "\n",
    "    df = pd.read_csv(snakemake.input.data)\n",
    "    "
   ]
  },
  {
   "cell_type": "code",
   "execution_count": 86,
   "id": "32ef427b",
   "metadata": {},
   "outputs": [
    {
     "data": {
      "text/html": [
       "<div>\n",
       "<style scoped>\n",
       "    .dataframe tbody tr th:only-of-type {\n",
       "        vertical-align: middle;\n",
       "    }\n",
       "\n",
       "    .dataframe tbody tr th {\n",
       "        vertical-align: top;\n",
       "    }\n",
       "\n",
       "    .dataframe thead th {\n",
       "        text-align: right;\n",
       "    }\n",
       "</style>\n",
       "<table border=\"1\" class=\"dataframe\">\n",
       "  <thead>\n",
       "    <tr style=\"text-align: right;\">\n",
       "      <th></th>\n",
       "      <th>snapshot</th>\n",
       "      <th>iteration 0</th>\n",
       "      <th>iteration 1</th>\n",
       "      <th>iteration 2</th>\n",
       "    </tr>\n",
       "  </thead>\n",
       "  <tbody>\n",
       "    <tr>\n",
       "      <th>0</th>\n",
       "      <td>2013-01-01 00:00:00</td>\n",
       "      <td>0.0</td>\n",
       "      <td>0.966763</td>\n",
       "      <td>0.966763</td>\n",
       "    </tr>\n",
       "    <tr>\n",
       "      <th>1</th>\n",
       "      <td>2013-01-01 03:00:00</td>\n",
       "      <td>0.0</td>\n",
       "      <td>0.966636</td>\n",
       "      <td>0.966636</td>\n",
       "    </tr>\n",
       "    <tr>\n",
       "      <th>2</th>\n",
       "      <td>2013-01-01 06:00:00</td>\n",
       "      <td>0.0</td>\n",
       "      <td>0.993095</td>\n",
       "      <td>0.993095</td>\n",
       "    </tr>\n",
       "    <tr>\n",
       "      <th>3</th>\n",
       "      <td>2013-01-01 09:00:00</td>\n",
       "      <td>0.0</td>\n",
       "      <td>1.000000</td>\n",
       "      <td>1.000000</td>\n",
       "    </tr>\n",
       "    <tr>\n",
       "      <th>4</th>\n",
       "      <td>2013-01-01 12:00:00</td>\n",
       "      <td>0.0</td>\n",
       "      <td>0.993250</td>\n",
       "      <td>0.993250</td>\n",
       "    </tr>\n",
       "    <tr>\n",
       "      <th>...</th>\n",
       "      <td>...</td>\n",
       "      <td>...</td>\n",
       "      <td>...</td>\n",
       "      <td>...</td>\n",
       "    </tr>\n",
       "    <tr>\n",
       "      <th>2915</th>\n",
       "      <td>2013-12-31 09:00:00</td>\n",
       "      <td>0.0</td>\n",
       "      <td>0.992380</td>\n",
       "      <td>0.992380</td>\n",
       "    </tr>\n",
       "    <tr>\n",
       "      <th>2916</th>\n",
       "      <td>2013-12-31 12:00:00</td>\n",
       "      <td>0.0</td>\n",
       "      <td>0.991199</td>\n",
       "      <td>0.991199</td>\n",
       "    </tr>\n",
       "    <tr>\n",
       "      <th>2917</th>\n",
       "      <td>2013-12-31 15:00:00</td>\n",
       "      <td>0.0</td>\n",
       "      <td>0.797333</td>\n",
       "      <td>0.797333</td>\n",
       "    </tr>\n",
       "    <tr>\n",
       "      <th>2918</th>\n",
       "      <td>2013-12-31 18:00:00</td>\n",
       "      <td>0.0</td>\n",
       "      <td>0.909347</td>\n",
       "      <td>0.909347</td>\n",
       "    </tr>\n",
       "    <tr>\n",
       "      <th>2919</th>\n",
       "      <td>2013-12-31 21:00:00</td>\n",
       "      <td>0.0</td>\n",
       "      <td>0.954042</td>\n",
       "      <td>0.954042</td>\n",
       "    </tr>\n",
       "  </tbody>\n",
       "</table>\n",
       "<p>2920 rows × 4 columns</p>\n",
       "</div>"
      ],
      "text/plain": [
       "                 snapshot  iteration 0  iteration 1  iteration 2\n",
       "0     2013-01-01 00:00:00          0.0     0.966763     0.966763\n",
       "1     2013-01-01 03:00:00          0.0     0.966636     0.966636\n",
       "2     2013-01-01 06:00:00          0.0     0.993095     0.993095\n",
       "3     2013-01-01 09:00:00          0.0     1.000000     1.000000\n",
       "4     2013-01-01 12:00:00          0.0     0.993250     0.993250\n",
       "...                   ...          ...          ...          ...\n",
       "2915  2013-12-31 09:00:00          0.0     0.992380     0.992380\n",
       "2916  2013-12-31 12:00:00          0.0     0.991199     0.991199\n",
       "2917  2013-12-31 15:00:00          0.0     0.797333     0.797333\n",
       "2918  2013-12-31 18:00:00          0.0     0.909347     0.909347\n",
       "2919  2013-12-31 21:00:00          0.0     0.954042     0.954042\n",
       "\n",
       "[2920 rows x 4 columns]"
      ]
     },
     "execution_count": 86,
     "metadata": {},
     "output_type": "execute_result"
    }
   ],
   "source": [
    "df"
   ]
  },
  {
   "cell_type": "code",
   "execution_count": 87,
   "id": "6729b8b4",
   "metadata": {},
   "outputs": [],
   "source": [
    "df[\"snapshot\"] = pd.to_datetime(df[\"snapshot\"])"
   ]
  },
  {
   "cell_type": "code",
   "execution_count": 88,
   "id": "1162c04e",
   "metadata": {},
   "outputs": [
    {
     "data": {
      "text/plain": [
       "pandas._libs.tslibs.timestamps.Timestamp"
      ]
     },
     "execution_count": 88,
     "metadata": {},
     "output_type": "execute_result"
    }
   ],
   "source": [
    "type(df[\"snapshot\"][0])"
   ]
  },
  {
   "cell_type": "markdown",
   "id": "dace887f",
   "metadata": {},
   "source": [
    "### Create heatmap "
   ]
  },
  {
   "cell_type": "code",
   "execution_count": 89,
   "id": "06703636",
   "metadata": {},
   "outputs": [],
   "source": [
    "# https://matplotlib.org/stable/tutorials/colors/colormaps.html\n",
    "colormap = \"BrBG\""
   ]
  },
  {
   "cell_type": "code",
   "execution_count": 90,
   "id": "5ba0457e",
   "metadata": {},
   "outputs": [],
   "source": [
    "MIN = df[\"iteration 1\"].min() #case of CFE -> 0\n",
    "MAX = df[\"iteration 1\"].max() #case of CFE -> 1"
   ]
  },
  {
   "cell_type": "code",
   "execution_count": 91,
   "id": "ce184ba0",
   "metadata": {},
   "outputs": [],
   "source": [
    "def heatmap(data, month, year, ax):\n",
    "    data = df[(df[\"snapshot\"].dt.month == month)]\n",
    "\n",
    "    snapshot = data[\"snapshot\"]\n",
    "    day = data[\"snapshot\"].dt.day\n",
    "    value = data[\"iteration 1\"]\n",
    "    value = value.values.reshape(8, len(day.unique()), order=\"F\") # 8 clusters of 3h in each day\n",
    "    \n",
    "    xgrid = np.arange(day.max() + 1) + 1  # The inner + 1 increases the length, the outer + 1 ensures days start at 1, and not at 0\n",
    "    ygrid = np.arange(9) #8 and extra 1\n",
    "    \n",
    "    ax.pcolormesh(xgrid, ygrid, value, cmap=colormap, vmin=MIN, vmax=MAX)\n",
    "    # Invert the vertical axis\n",
    "    ax.set_ylim(8, 0)\n",
    "    # Set tick positions for both axes\n",
    "    ax.yaxis.set_ticks([i for i in range(8)])\n",
    "    ax.xaxis.set_ticks([])\n",
    "    # Remove ticks by setting their length to 0\n",
    "    ax.yaxis.set_tick_params(length=0)\n",
    "    ax.xaxis.set_tick_params(length=0)\n",
    "    \n",
    "    # Remove all spines\n",
    "    ax.set_frame_on(False)"
   ]
  },
  {
   "cell_type": "code",
   "execution_count": 92,
   "id": "a8746e55",
   "metadata": {},
   "outputs": [
    {
     "data": {
      "text/plain": [
       "Text(0.5, 0.98, 'Carbon Heat Map | ..')"
      ]
     },
     "execution_count": 92,
     "metadata": {},
     "output_type": "execute_result"
    },
    {
     "data": {
      "image/png": "[encoded data removed]",
      "text/plain": [
       "<Figure size 1008x360 with 13 Axes>"
      ]
     },
     "metadata": {
      "needs_background": "light"
     },
     "output_type": "display_data"
    }
   ],
   "source": [
    "# Here 1 row year/variable and 12 columns for month\n",
    "\n",
    "fig, axes = plt.subplots(1, 12, figsize=(14, 5), sharey=True)\n",
    "plt.tight_layout()\n",
    "\n",
    "for i, year in enumerate([2013]):\n",
    "    for j, month in enumerate(range(1, 13)):\n",
    "        #print(f'j: {j}, month: {month}')\n",
    "        heatmap(df, month, year, axes[j])\n",
    "\n",
    "# Adjust margin and space between subplots (extra space is on the left for a label)\n",
    "fig.subplots_adjust(left=0.05, right=0.98, top=0.9, hspace=0.08, wspace=0) #wspace=0 stacks individual months together but easy to split\n",
    "\n",
    "# some room for the legend in the bottom\n",
    "fig.subplots_adjust(bottom=0.2)\n",
    "\n",
    "# Create a new axis to contain the color bar\n",
    "# Values are: (x coordinate of left border, y coordinate for bottom border, width, height)\n",
    "cbar_ax = fig.add_axes([0.3, 0.03, 0.4, 0.04])\n",
    "\n",
    "# Create a normalizer that goes from minimum to maximum temperature\n",
    "norm = mc.Normalize(0, 1) #for CFE, otherwise (MIN, MAX)\n",
    "\n",
    "# Create the colorbar and set it to horizontal\n",
    "cb = fig.colorbar(\n",
    "    ScalarMappable(norm=norm, cmap=colormap), \n",
    "    cax=cbar_ax, # Pass the new axis\n",
    "    orientation = \"horizontal\")\n",
    "\n",
    "# Remove tick marks and set label\n",
    "cb.ax.xaxis.set_tick_params(size=0)\n",
    "cb.set_label(\"Hourly CFE score of electricity supply from grid\", size=12)\n",
    "\n",
    "# add some figure labels and title\n",
    "fig.text(0.5, 0.15, \"Days of year\", ha=\"center\", va=\"center\", fontsize=14)\n",
    "fig.text(0.02, 0.5, '3-hour clusters of a day', ha=\"center\", va=\"center\", rotation=\"vertical\", fontsize=14)\n",
    "fig.suptitle(f\"Carbon Heat Map | ..\", fontsize=20, y=0.98)"
   ]
  },
  {
   "cell_type": "code",
   "execution_count": 93,
   "id": "8f0310ca",
   "metadata": {},
   "outputs": [],
   "source": [
    "# save the plot\n",
    "#fig.set_facecolor(\"white\")\n",
    "fig.savefig(\"plot.pdf\", bbox_inches = \"tight\", transparent=True)"
   ]
  },
  {
   "cell_type": "code",
   "execution_count": null,
   "id": "71646d79",
   "metadata": {},
   "outputs": [],
   "source": []
  }
 ],
 "metadata": {
  "kernelspec": {
   "display_name": "Python 3.9.12 ('247')",
   "language": "python",
   "name": "python3"
  },
  "language_info": {
   "codemirror_mode": {
    "name": "ipython",
    "version": 3
   },
   "file_extension": ".py",
   "mimetype": "text/x-python",
   "name": "python",
   "nbconvert_exporter": "python",
   "pygments_lexer": "ipython3",
   "version": "3.9.12"
  },
  "vscode": {
   "interpreter": {
    "hash": "a434f8e182fb5d5bd2581d74c958656c6d21213b4f6f091d4b0226e3d000e88a"
   }
  }
 },
 "nbformat": 4,
 "nbformat_minor": 5
}
